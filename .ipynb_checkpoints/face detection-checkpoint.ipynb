{
 "cells": [
  {
   "cell_type": "markdown",
   "metadata": {},
   "source": [
    "# On single image"
   ]
  },
  {
   "cell_type": "code",
   "execution_count": 15,
   "metadata": {},
   "outputs": [],
   "source": [
    "import cv2\n",
    "import numpy as np \n",
    "\n",
    "#load classifier\n",
    "\n",
    "face_cascade=cv2.CascadeClassifier('./Haarcascades/haarcascade_frontalface_default.xml')\n",
    "\n",
    "#load image\n",
    "img=cv2.imread('./image.jpg')\n",
    "\n",
    "#view image\n",
    "cv2.imshow('aa',img)\n",
    "cv2.waitKey(0)\n",
    "cv2.destroyAllWindows()\n",
    "\n",
    "#before applying classfier we convert into grayscale\n",
    "gray=cv2.cvtColor(img,cv2.COLOR_BGR2GRAY)\n",
    "\n",
    "#test classifier\n",
    "faces = face_cascade.detectMultiScale(gray, 1.3, 5)\n",
    "\n",
    "#we get numpy array from this function which contain x,y of top left corner and height and width\n",
    "type(faces)\n",
    "\n",
    "\n",
    "\n",
    "#draw rectangle on face\n",
    "for (x,y,h,w) in faces:\n",
    "    cv2.rectangle(img,(x,y),(x+w,y+h),(255,0,0),3)\n",
    "\n",
    "#view image\n",
    "cv2.imshow('aa',img)\n",
    "cv2.waitKey(0)\n",
    "cv2.destroyAllWindows()\n"
   ]
  },
  {
   "cell_type": "markdown",
   "metadata": {},
   "source": [
    "# ON Live Camera"
   ]
  },
  {
   "cell_type": "code",
   "execution_count": 6,
   "metadata": {},
   "outputs": [],
   "source": [
    "import cv2\n",
    "import numpy as np\n",
    "import time\n",
    "\n",
    "#load classifier\n",
    "face_cascade=cv2.CascadeClassifier('./Haarcascades/haarcascade_frontalface_default.xml')\n",
    "\n",
    "#creating videocapture object\n",
    "cap=cv2.VideoCapture('./video.mp4')\n",
    "\n",
    "frames=0\n",
    "#infinite loop for frames\n",
    "while True:\n",
    "    frames+=1\n",
    "    #returns bool value and frame\n",
    "    ret,frame=cap.read()\n",
    "    gray=cv2.cvtColor(frame,cv2.COLOR_BGR2GRAY)\n",
    "\n",
    "    start=time.time()\n",
    "\n",
    "    faces=face_cascade.detectMultiScale(gray,1.3,5)\n",
    "    \n",
    "    for (x,y,h,w) in faces:\n",
    "        cv2.rectangle(frame,(x,y),(x+w,y+h),(233,0,0),1)\n",
    "        \n",
    "    end=time.time()\n",
    "    diff=end-start\n",
    "    fps=int(frames/diff)\n",
    "    \n",
    "    cv2.putText(frame,'fps:{}'.format(fps), (10,50), cv2.FONT_HERSHEY_SIMPLEX, 2, 255)\n",
    "    cv2.imshow(\"a\",frame)\n",
    "    \n",
    "    #press q to exit\n",
    "    if cv2.waitKey(1) & 0xFF == ord('q'):\n",
    "        break\n",
    "    frames=0\n",
    "    \n",
    "cap.release()\n",
    "cv2.destroyAllWindows()\n",
    "    "
   ]
  }
 ],
 "metadata": {
  "kernelspec": {
   "display_name": "Python 3",
   "language": "python",
   "name": "python3"
  },
  "language_info": {
   "codemirror_mode": {
    "name": "ipython",
    "version": 3
   },
   "file_extension": ".py",
   "mimetype": "text/x-python",
   "name": "python",
   "nbconvert_exporter": "python",
   "pygments_lexer": "ipython3",
   "version": "3.7.1"
  }
 },
 "nbformat": 4,
 "nbformat_minor": 2
}
